{
 "cells": [
  {
   "cell_type": "markdown",
   "id": "e0d47b83-3a1b-46c3-b23b-5f142dbec9e6",
   "metadata": {},
   "source": [
    "# Level 2: Rice Crop Yield Forecasting Tool Benchmark Notebook"
   ]
  },
  {
   "cell_type": "code",
   "execution_count": 3,
   "id": "5a9cd21c",
   "metadata": {
    "vscode": {
     "languageId": "python"
    }
   },
   "outputs": [
    {
     "name": "stdout",
     "output_type": "stream",
     "text": [
      "Collecting tsmoothie\n",
      "  Using cached tsmoothie-1.0.4-py3-none-any.whl (21 kB)\n",
      "Requirement already satisfied: numpy in /srv/conda/envs/notebook/lib/python3.10/site-packages (from tsmoothie) (1.22.4)\n",
      "Collecting simdkalman\n",
      "  Using cached simdkalman-1.0.2-py2.py3-none-any.whl (11 kB)\n",
      "Requirement already satisfied: scipy in /srv/conda/envs/notebook/lib/python3.10/site-packages (from tsmoothie) (1.9.1)\n",
      "Installing collected packages: simdkalman, tsmoothie\n",
      "Successfully installed simdkalman-1.0.2 tsmoothie-1.0.4\n",
      "Note: you may need to restart the kernel to use updated packages.\n",
      "Collecting catboost\n",
      "  Using cached catboost-1.1.1-cp310-none-manylinux1_x86_64.whl (76.6 MB)\n",
      "Requirement already satisfied: numpy>=1.16.0 in /srv/conda/envs/notebook/lib/python3.10/site-packages (from catboost) (1.22.4)\n",
      "Requirement already satisfied: pandas>=0.24.0 in /srv/conda/envs/notebook/lib/python3.10/site-packages (from catboost) (1.4.4)\n",
      "Requirement already satisfied: matplotlib in /srv/conda/envs/notebook/lib/python3.10/site-packages (from catboost) (3.5.3)\n",
      "Requirement already satisfied: graphviz in /srv/conda/envs/notebook/lib/python3.10/site-packages (from catboost) (0.20.1)\n",
      "Collecting plotly\n",
      "  Using cached plotly-5.14.0-py2.py3-none-any.whl (15.3 MB)\n",
      "Requirement already satisfied: scipy in /srv/conda/envs/notebook/lib/python3.10/site-packages (from catboost) (1.9.1)\n",
      "Requirement already satisfied: six in /srv/conda/envs/notebook/lib/python3.10/site-packages (from catboost) (1.16.0)\n",
      "Requirement already satisfied: python-dateutil>=2.8.1 in /srv/conda/envs/notebook/lib/python3.10/site-packages (from pandas>=0.24.0->catboost) (2.8.2)\n",
      "Requirement already satisfied: pytz>=2020.1 in /srv/conda/envs/notebook/lib/python3.10/site-packages (from pandas>=0.24.0->catboost) (2022.2.1)\n",
      "Requirement already satisfied: pillow>=6.2.0 in /srv/conda/envs/notebook/lib/python3.10/site-packages (from matplotlib->catboost) (9.2.0)\n",
      "Requirement already satisfied: fonttools>=4.22.0 in /srv/conda/envs/notebook/lib/python3.10/site-packages (from matplotlib->catboost) (4.37.2)\n",
      "Requirement already satisfied: cycler>=0.10 in /srv/conda/envs/notebook/lib/python3.10/site-packages (from matplotlib->catboost) (0.11.0)\n",
      "Requirement already satisfied: packaging>=20.0 in /srv/conda/envs/notebook/lib/python3.10/site-packages (from matplotlib->catboost) (21.3)\n",
      "Requirement already satisfied: pyparsing>=2.2.1 in /srv/conda/envs/notebook/lib/python3.10/site-packages (from matplotlib->catboost) (3.0.9)\n",
      "Requirement already satisfied: kiwisolver>=1.0.1 in /srv/conda/envs/notebook/lib/python3.10/site-packages (from matplotlib->catboost) (1.4.4)\n",
      "Requirement already satisfied: tenacity>=6.2.0 in /srv/conda/envs/notebook/lib/python3.10/site-packages (from plotly->catboost) (8.0.1)\n",
      "Installing collected packages: plotly, catboost\n",
      "Successfully installed catboost-1.1.1 plotly-5.14.0\n",
      "Note: you may need to restart the kernel to use updated packages.\n"
     ]
    }
   ],
   "source": [
    "%pip install tsmoothie\n",
    "%pip install catboost"
   ]
  },
  {
   "cell_type": "code",
   "execution_count": 4,
   "id": "5eba2110-c3ad-4136-849e-14ffa70decd2",
   "metadata": {
    "vscode": {
     "languageId": "python"
    }
   },
   "outputs": [],
   "source": [
    "# Supress Warnings\n",
    "import warnings\n",
    "warnings.filterwarnings('ignore')\n",
    "\n",
    "# Visualization\n",
    "import ipyleaflet\n",
    "from ipyleaflet import Map, Marker\n",
    "import matplotlib.pyplot as plt\n",
    "from IPython.display import Image\n",
    "import seaborn as sns\n",
    "\n",
    "# Data Science\n",
    "import numpy as np\n",
    "import pandas as pd\n",
    "from tsmoothie.utils_func import sim_randomwalk\n",
    "from tsmoothie.smoother import LowessSmoother, KalmanSmoother\n",
    "from tsmoothie.bootstrap import BootstrappingWrapper\n",
    "import xarray as xr\n",
    "\n",
    "# Feature Engineering\n",
    "from sklearn.preprocessing import StandardScaler\n",
    "from sklearn.model_selection import train_test_split\n",
    "\n",
    "# Machine Learning\n",
    "from sklearn.linear_model import LogisticRegression\n",
    "from sklearn.metrics import f1_score, accuracy_score,classification_report,confusion_matrix\n",
    "from sklearn.metrics import r2_score\n",
    "from catboost import CatBoostRegressor, Pool\n",
    "\n",
    "# Planetary Computer Tools\n",
    "import pystac\n",
    "import pystac_client\n",
    "import odc\n",
    "from pystac_client import Client\n",
    "from pystac.extensions.eo import EOExtension as eo\n",
    "from odc.stac import stac_load\n",
    "import planetary_computer as pc\n",
    "pc.settings.set_subscription_key('')\n",
    "\n",
    "# Others\n",
    "import requests\n",
    "import rich.table\n",
    "from datetime import datetime\n",
    "from itertools import cycle\n",
    "from tqdm import tqdm\n",
    "tqdm.pandas()"
   ]
  },
  {
   "cell_type": "markdown",
   "id": "d9323515-02ec-4a3b-b64e-14c368c6908c",
   "metadata": {},
   "source": [
    "## Response Variable"
   ]
  },
  {
   "cell_type": "markdown",
   "id": "a3b0829a-91d4-4a1d-af55-ab359a1536e0",
   "metadata": {},
   "source": [
    "Before building the model, we need to load in the rice crop yield data. In particular, rice crop yield data was collected for the period of late-2021 to mid-2022 over the Chau Phu, Chau Thanh and Thoai Son districts.\n",
    "\n",
    "This is a dense rice crop region with a mix of double and triple cropping cycles.For this demonstration, we have assumed a triple cropping (3 cycles per year) for all the data points, but you are free to explore the impact of cropping cycles on the yield.You will have to map every data point with its corresponding crop cycle.\n",
    "The crop cycles are Winter-Spring ( November – April) and the Summer-Autumn (April – August). E.g., the harvest date for the first entry is 15th July 2022. The corresponding crop cycle will be Summer-Autumn (April – August). \n",
    "\n",
    "The data consists of geo locations (Latitude and Longitude), District, Season, Rice Crop Intensity, Date of Harvest, Field Size (in Hectares) with the yield in each geo location."
   ]
  },
  {
   "cell_type": "code",
   "execution_count": 8,
   "id": "dbc540b6-319d-4ba4-b699-e96264de6855",
   "metadata": {
    "vscode": {
     "languageId": "python"
    }
   },
   "outputs": [
    {
     "data": {
      "text/html": [
       "<div>\n",
       "<style scoped>\n",
       "    .dataframe tbody tr th:only-of-type {\n",
       "        vertical-align: middle;\n",
       "    }\n",
       "\n",
       "    .dataframe tbody tr th {\n",
       "        vertical-align: top;\n",
       "    }\n",
       "\n",
       "    .dataframe thead th {\n",
       "        text-align: right;\n",
       "    }\n",
       "</style>\n",
       "<table border=\"1\" class=\"dataframe\">\n",
       "  <thead>\n",
       "    <tr style=\"text-align: right;\">\n",
       "      <th></th>\n",
       "      <th>District</th>\n",
       "      <th>Latitude</th>\n",
       "      <th>Longitude</th>\n",
       "      <th>Season(SA = Summer Autumn, WS = Winter Spring)</th>\n",
       "      <th>Rice Crop Intensity(D=Double, T=Triple)</th>\n",
       "      <th>Date of Harvest</th>\n",
       "      <th>Field size (ha)</th>\n",
       "      <th>Rice Yield (kg/ha)</th>\n",
       "    </tr>\n",
       "  </thead>\n",
       "  <tbody>\n",
       "    <tr>\n",
       "      <th>0</th>\n",
       "      <td>Chau_Phu</td>\n",
       "      <td>10.510542</td>\n",
       "      <td>105.248554</td>\n",
       "      <td>SA</td>\n",
       "      <td>T</td>\n",
       "      <td>15-07-2022</td>\n",
       "      <td>3.40</td>\n",
       "      <td>5500</td>\n",
       "    </tr>\n",
       "    <tr>\n",
       "      <th>1</th>\n",
       "      <td>Chau_Phu</td>\n",
       "      <td>10.509150</td>\n",
       "      <td>105.265098</td>\n",
       "      <td>SA</td>\n",
       "      <td>T</td>\n",
       "      <td>15-07-2022</td>\n",
       "      <td>2.43</td>\n",
       "      <td>6000</td>\n",
       "    </tr>\n",
       "    <tr>\n",
       "      <th>2</th>\n",
       "      <td>Chau_Phu</td>\n",
       "      <td>10.467721</td>\n",
       "      <td>105.192464</td>\n",
       "      <td>SA</td>\n",
       "      <td>D</td>\n",
       "      <td>15-07-2022</td>\n",
       "      <td>1.95</td>\n",
       "      <td>6400</td>\n",
       "    </tr>\n",
       "    <tr>\n",
       "      <th>3</th>\n",
       "      <td>Chau_Phu</td>\n",
       "      <td>10.494453</td>\n",
       "      <td>105.241281</td>\n",
       "      <td>SA</td>\n",
       "      <td>T</td>\n",
       "      <td>15-07-2022</td>\n",
       "      <td>4.30</td>\n",
       "      <td>6000</td>\n",
       "    </tr>\n",
       "    <tr>\n",
       "      <th>4</th>\n",
       "      <td>Chau_Phu</td>\n",
       "      <td>10.535058</td>\n",
       "      <td>105.252744</td>\n",
       "      <td>SA</td>\n",
       "      <td>D</td>\n",
       "      <td>14-07-2022</td>\n",
       "      <td>3.30</td>\n",
       "      <td>6400</td>\n",
       "    </tr>\n",
       "  </tbody>\n",
       "</table>\n",
       "</div>"
      ],
      "text/plain": [
       "   District   Latitude   Longitude  \\\n",
       "0  Chau_Phu  10.510542  105.248554   \n",
       "1  Chau_Phu  10.509150  105.265098   \n",
       "2  Chau_Phu  10.467721  105.192464   \n",
       "3  Chau_Phu  10.494453  105.241281   \n",
       "4  Chau_Phu  10.535058  105.252744   \n",
       "\n",
       "  Season(SA = Summer Autumn, WS = Winter Spring)  \\\n",
       "0                                             SA   \n",
       "1                                             SA   \n",
       "2                                             SA   \n",
       "3                                             SA   \n",
       "4                                             SA   \n",
       "\n",
       "  Rice Crop Intensity(D=Double, T=Triple) Date of Harvest  Field size (ha)  \\\n",
       "0                                       T      15-07-2022             3.40   \n",
       "1                                       T      15-07-2022             2.43   \n",
       "2                                       D      15-07-2022             1.95   \n",
       "3                                       T      15-07-2022             4.30   \n",
       "4                                       D      14-07-2022             3.30   \n",
       "\n",
       "   Rice Yield (kg/ha)  \n",
       "0                5500  \n",
       "1                6000  \n",
       "2                6400  \n",
       "3                6000  \n",
       "4                6400  "
      ]
     },
     "execution_count": 8,
     "metadata": {},
     "output_type": "execute_result"
    }
   ],
   "source": [
    "crop_yield_data = pd.read_csv(\"PlanetaryComputerExamples/OpenDataChallenge/Data/Crop_Yield_Data_challenge_2.csv\")\n",
    "crop_yield_data.head()"
   ]
  },
  {
   "cell_type": "markdown",
   "id": "bccc0c2e-e01e-4619-a8fa-50090cdb18f0",
   "metadata": {},
   "source": [
    "## Predictor Variables"
   ]
  },
  {
   "cell_type": "markdown",
   "id": "ad2fc63b-34b0-429d-8026-6297e2fc2728",
   "metadata": {},
   "source": [
    "### Accessing the Sentinel-1 Data"
   ]
  },
  {
   "cell_type": "markdown",
   "id": "a43ef3c7-5738-45a6-acd0-dc3083b27eda",
   "metadata": {},
   "source": [
    "<p align = \"Justify\">To get the Sentinel-1 data, we write a function called <i><b>get_sentinel_data.</b></i> This function will fetch VV, VH band values and VV/VH values for a particular location over the specified time window. In this example, we have taken the VV, VH, and VV/VH values for 4 months in each season.</p>"
   ]
  },
  {
   "cell_type": "code",
   "execution_count": 5,
   "id": "76504318",
   "metadata": {
    "vscode": {
     "languageId": "python"
    }
   },
   "outputs": [],
   "source": [
    "def create_bbox(lat_long, size_px):\n",
    "    \n",
    "    box_size_deg = 0.00007 * size_px \n",
    "\n",
    "    min_lon = lat_long[1]-box_size_deg/2\n",
    "    min_lat = lat_long[0]-box_size_deg/2\n",
    "    max_lon = lat_long[1]+box_size_deg/2\n",
    "    max_lat = lat_long[0]+box_size_deg/2\n",
    "\n",
    "    bbox = (min_lon, min_lat, max_lon, max_lat)\n",
    "    return bbox\n",
    "\n",
    "def smooth_data(data, window_size=3):\n",
    "    data = data.rolling(window_size, center=True).mean()\n",
    "    return data\n",
    "\n",
    "def db_scale(x):\n",
    "    return 10 * np.log10(x)\n",
    "\n",
    "#function to get date from string 6 months prior\n",
    "def get_date(date_string):\n",
    "    date = datetime.strptime(date_string, '%d-%m-%Y')\n",
    "    datePrior = date - pd.DateOffset(months=6)\n",
    "    date = datetime.strftime(date, '%Y-%m-%d')\n",
    "    datePrior = datetime.strftime(datePrior, '%Y-%m-%d')\n",
    "    #get delta between date and date_string\n",
    "    return str(datePrior + '/' + date)"
   ]
  },
  {
   "cell_type": "code",
   "execution_count": 6,
   "id": "8e0d09d7-49f6-4e1c-9fd4-873a577a33c4",
   "metadata": {
    "vscode": {
     "languageId": "python"
    }
   },
   "outputs": [],
   "source": [
    "def get_sentinel_data(longitude, latitude, harvest_date,assets):\n",
    "    \n",
    "    '''\n",
    "    Returns a list of VV,VH, VV/VH values for a given latitude and longitude over a given time period (based on the season)\n",
    "    Attributes:\n",
    "    longitude - Longitude\n",
    "    latitude - Latitude\n",
    "    season - The season for which band values need to be extracted.\n",
    "    assets - A list of bands to be extracted\n",
    "    \n",
    "    '''\n",
    "    \n",
    "    time_slice = get_date(harvest_date)\n",
    "        \n",
    "    \n",
    "\n",
    "    \n",
    "    bbox_of_interest = create_bbox((latitude, longitude), 3)\n",
    "    time_of_interest = str(time_slice)\n",
    "    \n",
    "    catalog = pystac_client.Client.open(\n",
    "        \"https://planetarycomputer.microsoft.com/api/stac/v1\"\n",
    "    )\n",
    "    search = catalog.search(\n",
    "        collections=[\"sentinel-1-rtc\"], \n",
    "        bbox=bbox_of_interest, \n",
    "        datetime=time_of_interest\n",
    "    )\n",
    "    items = list(search.get_all_items())\n",
    "    \n",
    "    data = stac_load(items,bands = assets, patch_url=pc.sign, bbox=bbox_of_interest)\n",
    "\n",
    "    \n",
    "              \n",
    "    return data"
   ]
  },
  {
   "cell_type": "code",
   "execution_count": 10,
   "id": "a827365a-01ed-41f8-9973-6480e4402b9f",
   "metadata": {
    "vscode": {
     "languageId": "python"
    }
   },
   "outputs": [
    {
     "name": "stderr",
     "output_type": "stream",
     "text": [
      "100%|██████████| 7/7 [00:55<00:00,  7.94s/it]\n"
     ]
    }
   ],
   "source": [
    "## Get Sentinel-1-RTC Data\n",
    "\n",
    "assets = ['vh','vv']\n",
    "longitude = crop_yield_data['Longitude'].astype(float).values\n",
    "latitude = crop_yield_data['Latitude'].astype(float).values\n",
    "harvest_date = crop_yield_data['Date of Harvest'].values\n",
    "datasets = []\n",
    "for i in tqdm(range(550,len(longitude))):\n",
    "    data = db_scale(get_sentinel_data(longitude[i],latitude[i], harvest_date[i], assets))\n",
    "    data.to_netcdf('PlanetaryComputerExamples/OpenDataChallenge/Data/RawData_2/raw_data_' + str(i) + '.nc')\n",
    "    datasets.append(data)"
   ]
  },
  {
   "attachments": {},
   "cell_type": "markdown",
   "id": "e1d85a6b",
   "metadata": {},
   "source": [
    "## FEATURE BUILDING\n"
   ]
  },
  {
   "cell_type": "code",
   "execution_count": 43,
   "id": "108ff668",
   "metadata": {
    "vscode": {
     "languageId": "python"
    }
   },
   "outputs": [
    {
     "name": "stderr",
     "output_type": "stream",
     "text": [
      "100%|██████████| 557/557 [00:05<00:00, 100.72it/s]\n"
     ]
    }
   ],
   "source": [
    "#get sample data from Data/RawData files\n",
    "dataArray = []\n",
    "for i in tqdm(range(0,len(crop_yield_data))):\n",
    "    data = xr.open_dataset('PlanetaryComputerExamples/OpenDataChallenge/Data/RawData_2/raw_data_'+str(i)+'.nc')\n",
    "    data = data.mean(dim=['x','y']).compute()\n",
    "    data = data.assign_coords({'time':np.arange(0,len(data.time))})\n",
    "    dataArray.append(data)\n"
   ]
  },
  {
   "cell_type": "code",
   "execution_count": 44,
   "id": "f3566d27",
   "metadata": {
    "vscode": {
     "languageId": "python"
    }
   },
   "outputs": [],
   "source": [
    "data = xr.concat(dataArray, dim='place')\n",
    "#drop last 3 time steps\n",
    "data = data.isel(time=slice(0,-3))"
   ]
  },
  {
   "cell_type": "code",
   "execution_count": 11,
   "id": "8d581394",
   "metadata": {
    "vscode": {
     "languageId": "python"
    }
   },
   "outputs": [],
   "source": [
    "#interpolate na\n",
    "data = data.interpolate_na(dim='time', method='linear')"
   ]
  },
  {
   "cell_type": "code",
   "execution_count": 12,
   "id": "939ac407",
   "metadata": {
    "vscode": {
     "languageId": "python"
    }
   },
   "outputs": [],
   "source": [
    "#add cross-co polarisation\n",
    "crossCo = (data.vh/data.vv).to_dataset(name='crossCo')\n",
    "data = data.merge(crossCo)"
   ]
  },
  {
   "cell_type": "code",
   "execution_count": 13,
   "id": "e757e84b",
   "metadata": {
    "vscode": {
     "languageId": "python"
    }
   },
   "outputs": [
    {
     "name": "stderr",
     "output_type": "stream",
     "text": [
      "100%|██████████| 557/557 [00:01<00:00, 500.57it/s]\n"
     ]
    }
   ],
   "source": [
    "#apply time series smoothing\n",
    "smoother = LowessSmoother(smooth_fraction=0.1, iterations=1)\n",
    "smooth_data = []\t\n",
    "for i in tqdm(range(0,len(data.place))):\n",
    "    smoother.smooth(data.isel(place=i).to_array(dim='time'))\n",
    "    smooth_data.append(xr.DataArray(smoother.smooth_data, dims=['bands', 'scene'], coords={'bands':['vv','vh','crossCo'], 'scene':range(0, 35)}))\n",
    "\n",
    "\n",
    "smooth_data = xr.concat(smooth_data, dim='place')"
   ]
  },
  {
   "cell_type": "code",
   "execution_count": 14,
   "id": "4deacc23-ae01-4b0e-8efe-622281f09fd8",
   "metadata": {
    "vscode": {
     "languageId": "python"
    }
   },
   "outputs": [],
   "source": [
    "crop_data = smooth_data.stack(variables=('bands', 'scene')).to_numpy()"
   ]
  },
  {
   "cell_type": "code",
   "execution_count": 145,
   "id": "dea1a2b3",
   "metadata": {
    "vscode": {
     "languageId": "python"
    }
   },
   "outputs": [
    {
     "data": {
      "text/plain": [
       "array([[-18.923464  , -17.957426  , -16.986423  , ...,   1.6790948 ,\n",
       "          1.6937134 ,   1.7080252 ],\n",
       "       [-12.492396  , -13.942531  , -15.295291  , ...,   0.5891562 ,\n",
       "          0.53165424,   0.47630247],\n",
       "       [-18.472778  , -18.03032   , -17.503496  , ...,   1.654949  ,\n",
       "          1.7303727 ,   1.8078941 ],\n",
       "       ...,\n",
       "       [-15.690487  , -16.062609  , -16.279774  , ...,   1.6024942 ,\n",
       "          1.7554646 ,   1.953673  ],\n",
       "       [ -9.587777  , -11.550083  , -13.366557  , ...,   2.0698874 ,\n",
       "          2.0250323 ,   1.9860201 ],\n",
       "       [-17.798119  , -15.748918  , -13.802306  , ...,   1.8359718 ,\n",
       "          1.6063745 ,   1.3026239 ]], dtype=float32)"
      ]
     },
     "execution_count": 145,
     "metadata": {},
     "output_type": "execute_result"
    }
   ],
   "source": [
    "crop_data"
   ]
  },
  {
   "cell_type": "code",
   "execution_count": 15,
   "id": "5b0a9da7-f4ab-4e03-85e1-0346a50079f4",
   "metadata": {
    "vscode": {
     "languageId": "python"
    }
   },
   "outputs": [
    {
     "data": {
      "text/plain": [
       "(557, 105)"
      ]
     },
     "execution_count": 15,
     "metadata": {},
     "output_type": "execute_result"
    }
   ],
   "source": [
    "crop_data.shape"
   ]
  },
  {
   "cell_type": "markdown",
   "id": "cdd3f46b-347e-4665-8eb7-8d028046853c",
   "metadata": {},
   "source": [
    "### Train and Test Split "
   ]
  },
  {
   "cell_type": "markdown",
   "id": "90847564-e4af-4aa3-ba14-e4cd1575c764",
   "metadata": {},
   "source": [
    "<p align=\"justify\">We will now split the data into 80% training data and 20% test data. Scikit-learn alias “sklearn” is a robust library for machine learning in Python. The scikit-learn library has a <i><b>model_selection</b></i> module in which there is a splitting function <i><b>train_test_split</b></i>. You can use the same.</p>"
   ]
  },
  {
   "cell_type": "code",
   "execution_count": 16,
   "id": "70cf613b-1ef9-4723-9259-8b735ea4eb76",
   "metadata": {
    "vscode": {
     "languageId": "python"
    }
   },
   "outputs": [],
   "source": [
    "X = crop_data\n",
    "y = crop_yield_data ['Rice Yield (kg/ha)'].values\n",
    "# Choose any random state\n",
    "X_train, X_test, y_train, y_test = train_test_split(X, y, test_size=0.2,random_state=21)"
   ]
  },
  {
   "cell_type": "markdown",
   "id": "86d57452-ee72-4ac2-b033-296f455cf6e7",
   "metadata": {},
   "source": [
    "### Model Training"
   ]
  },
  {
   "cell_type": "code",
   "execution_count": 18,
   "id": "01382fe9-645a-4b63-97e0-d227b314e866",
   "metadata": {
    "vscode": {
     "languageId": "python"
    }
   },
   "outputs": [
    {
     "name": "stdout",
     "output_type": "stream",
     "text": [
      "0:\tlearn: 753.1336137\ttotal: 51.9ms\tremaining: 25.9s\n",
      "1:\tlearn: 719.3132756\ttotal: 54.2ms\tremaining: 13.5s\n",
      "2:\tlearn: 685.3056817\ttotal: 56ms\tremaining: 9.28s\n",
      "3:\tlearn: 658.2116241\ttotal: 57.9ms\tremaining: 7.18s\n",
      "4:\tlearn: 632.2435129\ttotal: 59.8ms\tremaining: 5.92s\n",
      "5:\tlearn: 608.5207433\ttotal: 61.5ms\tremaining: 5.06s\n",
      "6:\tlearn: 590.8647127\ttotal: 63.2ms\tremaining: 4.45s\n",
      "7:\tlearn: 573.1513133\ttotal: 65ms\tremaining: 4s\n",
      "8:\tlearn: 555.4294176\ttotal: 67.1ms\tremaining: 3.66s\n",
      "9:\tlearn: 543.1449652\ttotal: 69.1ms\tremaining: 3.38s\n",
      "10:\tlearn: 530.1204071\ttotal: 71.1ms\tremaining: 3.16s\n",
      "11:\tlearn: 520.0739474\ttotal: 72.8ms\tremaining: 2.96s\n",
      "12:\tlearn: 512.6060437\ttotal: 74.7ms\tremaining: 2.8s\n",
      "13:\tlearn: 506.8519475\ttotal: 76.6ms\tremaining: 2.66s\n",
      "14:\tlearn: 499.4465259\ttotal: 78.5ms\tremaining: 2.54s\n",
      "15:\tlearn: 492.2639704\ttotal: 80.4ms\tremaining: 2.43s\n",
      "16:\tlearn: 487.9054707\ttotal: 82.2ms\tremaining: 2.33s\n",
      "17:\tlearn: 482.4673038\ttotal: 84ms\tremaining: 2.25s\n",
      "18:\tlearn: 478.2795193\ttotal: 86ms\tremaining: 2.18s\n",
      "19:\tlearn: 474.6443443\ttotal: 87.7ms\tremaining: 2.1s\n",
      "20:\tlearn: 471.1802634\ttotal: 89.4ms\tremaining: 2.04s\n",
      "21:\tlearn: 468.0679090\ttotal: 91.2ms\tremaining: 1.98s\n",
      "22:\tlearn: 463.3696002\ttotal: 92.9ms\tremaining: 1.93s\n",
      "23:\tlearn: 460.8002440\ttotal: 94.7ms\tremaining: 1.88s\n",
      "24:\tlearn: 458.6946421\ttotal: 96.6ms\tremaining: 1.83s\n",
      "25:\tlearn: 455.2069839\ttotal: 98.4ms\tremaining: 1.79s\n",
      "26:\tlearn: 452.3202990\ttotal: 101ms\tremaining: 1.77s\n",
      "27:\tlearn: 450.6779537\ttotal: 103ms\tremaining: 1.74s\n",
      "28:\tlearn: 448.4316329\ttotal: 105ms\tremaining: 1.7s\n",
      "29:\tlearn: 446.2607367\ttotal: 107ms\tremaining: 1.67s\n",
      "30:\tlearn: 444.8912139\ttotal: 108ms\tremaining: 1.64s\n",
      "31:\tlearn: 443.0553110\ttotal: 110ms\tremaining: 1.61s\n",
      "32:\tlearn: 441.4353893\ttotal: 112ms\tremaining: 1.58s\n",
      "33:\tlearn: 440.2376543\ttotal: 114ms\tremaining: 1.56s\n",
      "34:\tlearn: 439.2848946\ttotal: 116ms\tremaining: 1.53s\n",
      "35:\tlearn: 436.7305577\ttotal: 117ms\tremaining: 1.51s\n",
      "36:\tlearn: 435.0091154\ttotal: 119ms\tremaining: 1.49s\n",
      "37:\tlearn: 432.7327477\ttotal: 121ms\tremaining: 1.47s\n",
      "38:\tlearn: 430.8815309\ttotal: 122ms\tremaining: 1.45s\n",
      "39:\tlearn: 429.7226853\ttotal: 124ms\tremaining: 1.43s\n",
      "40:\tlearn: 428.4333505\ttotal: 126ms\tremaining: 1.41s\n",
      "41:\tlearn: 427.5652340\ttotal: 128ms\tremaining: 1.39s\n",
      "42:\tlearn: 425.8935713\ttotal: 130ms\tremaining: 1.38s\n",
      "43:\tlearn: 424.7376368\ttotal: 132ms\tremaining: 1.36s\n",
      "44:\tlearn: 424.0703345\ttotal: 134ms\tremaining: 1.35s\n",
      "45:\tlearn: 423.4304075\ttotal: 136ms\tremaining: 1.34s\n",
      "46:\tlearn: 421.6089000\ttotal: 138ms\tremaining: 1.32s\n",
      "47:\tlearn: 420.6052451\ttotal: 139ms\tremaining: 1.31s\n",
      "48:\tlearn: 419.2163937\ttotal: 141ms\tremaining: 1.3s\n",
      "49:\tlearn: 417.9954005\ttotal: 143ms\tremaining: 1.28s\n",
      "50:\tlearn: 417.0930645\ttotal: 145ms\tremaining: 1.27s\n",
      "51:\tlearn: 416.2938042\ttotal: 147ms\tremaining: 1.26s\n",
      "52:\tlearn: 415.1240084\ttotal: 150ms\tremaining: 1.27s\n",
      "53:\tlearn: 414.2272107\ttotal: 152ms\tremaining: 1.26s\n",
      "54:\tlearn: 413.4444266\ttotal: 154ms\tremaining: 1.25s\n",
      "55:\tlearn: 412.5926083\ttotal: 156ms\tremaining: 1.24s\n",
      "56:\tlearn: 410.2713930\ttotal: 158ms\tremaining: 1.22s\n",
      "57:\tlearn: 409.2075555\ttotal: 159ms\tremaining: 1.21s\n",
      "58:\tlearn: 408.2981916\ttotal: 161ms\tremaining: 1.2s\n",
      "59:\tlearn: 406.1003198\ttotal: 163ms\tremaining: 1.2s\n",
      "60:\tlearn: 404.5094661\ttotal: 167ms\tremaining: 1.2s\n",
      "61:\tlearn: 403.3414442\ttotal: 169ms\tremaining: 1.19s\n",
      "62:\tlearn: 402.3389076\ttotal: 171ms\tremaining: 1.19s\n",
      "63:\tlearn: 401.0232772\ttotal: 175ms\tremaining: 1.19s\n",
      "64:\tlearn: 399.7384548\ttotal: 177ms\tremaining: 1.18s\n",
      "65:\tlearn: 398.9636744\ttotal: 179ms\tremaining: 1.18s\n",
      "66:\tlearn: 397.7606087\ttotal: 181ms\tremaining: 1.17s\n",
      "67:\tlearn: 396.6802272\ttotal: 182ms\tremaining: 1.16s\n",
      "68:\tlearn: 395.7240646\ttotal: 184ms\tremaining: 1.15s\n",
      "69:\tlearn: 393.9728203\ttotal: 186ms\tremaining: 1.14s\n",
      "70:\tlearn: 393.2076518\ttotal: 188ms\tremaining: 1.14s\n",
      "71:\tlearn: 391.0725320\ttotal: 190ms\tremaining: 1.13s\n",
      "72:\tlearn: 390.4015857\ttotal: 191ms\tremaining: 1.12s\n",
      "73:\tlearn: 389.6750414\ttotal: 193ms\tremaining: 1.11s\n",
      "74:\tlearn: 389.1318406\ttotal: 195ms\tremaining: 1.11s\n",
      "75:\tlearn: 386.6858633\ttotal: 197ms\tremaining: 1.1s\n",
      "76:\tlearn: 384.7119345\ttotal: 199ms\tremaining: 1.09s\n",
      "77:\tlearn: 383.9810631\ttotal: 201ms\tremaining: 1.09s\n",
      "78:\tlearn: 382.4509836\ttotal: 203ms\tremaining: 1.08s\n",
      "79:\tlearn: 381.5594518\ttotal: 205ms\tremaining: 1.07s\n",
      "80:\tlearn: 380.5697740\ttotal: 207ms\tremaining: 1.07s\n",
      "81:\tlearn: 379.6974563\ttotal: 208ms\tremaining: 1.06s\n",
      "82:\tlearn: 378.7876214\ttotal: 210ms\tremaining: 1.06s\n",
      "83:\tlearn: 378.0351557\ttotal: 212ms\tremaining: 1.05s\n",
      "84:\tlearn: 376.0452559\ttotal: 214ms\tremaining: 1.04s\n",
      "85:\tlearn: 375.0019067\ttotal: 216ms\tremaining: 1.04s\n",
      "86:\tlearn: 373.3055081\ttotal: 218ms\tremaining: 1.03s\n",
      "87:\tlearn: 372.8137910\ttotal: 219ms\tremaining: 1.03s\n",
      "88:\tlearn: 371.0619852\ttotal: 221ms\tremaining: 1.02s\n",
      "89:\tlearn: 370.5464257\ttotal: 223ms\tremaining: 1.02s\n",
      "90:\tlearn: 368.8003428\ttotal: 225ms\tremaining: 1.01s\n",
      "91:\tlearn: 367.2805037\ttotal: 227ms\tremaining: 1.01s\n",
      "92:\tlearn: 365.5040126\ttotal: 229ms\tremaining: 1s\n",
      "93:\tlearn: 364.3051261\ttotal: 231ms\tremaining: 997ms\n",
      "94:\tlearn: 362.5189545\ttotal: 233ms\tremaining: 992ms\n",
      "95:\tlearn: 361.4813520\ttotal: 235ms\tremaining: 988ms\n",
      "96:\tlearn: 360.2454434\ttotal: 237ms\tremaining: 983ms\n",
      "97:\tlearn: 358.9328432\ttotal: 238ms\tremaining: 978ms\n",
      "98:\tlearn: 357.5823436\ttotal: 240ms\tremaining: 974ms\n",
      "99:\tlearn: 355.3646328\ttotal: 242ms\tremaining: 969ms\n",
      "100:\tlearn: 353.8428663\ttotal: 244ms\tremaining: 964ms\n",
      "101:\tlearn: 352.5161480\ttotal: 247ms\tremaining: 962ms\n",
      "102:\tlearn: 350.7876001\ttotal: 249ms\tremaining: 960ms\n",
      "103:\tlearn: 350.2292498\ttotal: 251ms\tremaining: 956ms\n",
      "104:\tlearn: 349.1163484\ttotal: 253ms\tremaining: 953ms\n",
      "105:\tlearn: 348.1741153\ttotal: 256ms\tremaining: 950ms\n",
      "106:\tlearn: 346.1586943\ttotal: 258ms\tremaining: 946ms\n",
      "107:\tlearn: 345.5480742\ttotal: 260ms\tremaining: 943ms\n",
      "108:\tlearn: 344.2138569\ttotal: 262ms\tremaining: 939ms\n",
      "109:\tlearn: 343.7186161\ttotal: 264ms\tremaining: 936ms\n",
      "110:\tlearn: 342.3026405\ttotal: 266ms\tremaining: 933ms\n",
      "111:\tlearn: 340.5934050\ttotal: 268ms\tremaining: 929ms\n",
      "112:\tlearn: 340.4423459\ttotal: 270ms\tremaining: 926ms\n",
      "113:\tlearn: 338.8077039\ttotal: 273ms\tremaining: 923ms\n",
      "114:\tlearn: 338.1135418\ttotal: 275ms\tremaining: 920ms\n",
      "115:\tlearn: 336.5330165\ttotal: 277ms\tremaining: 916ms\n",
      "116:\tlearn: 334.9127383\ttotal: 279ms\tremaining: 913ms\n",
      "117:\tlearn: 334.0710965\ttotal: 281ms\tremaining: 910ms\n",
      "118:\tlearn: 333.0377004\ttotal: 283ms\tremaining: 906ms\n",
      "119:\tlearn: 331.6006374\ttotal: 285ms\tremaining: 903ms\n",
      "120:\tlearn: 329.6560392\ttotal: 287ms\tremaining: 900ms\n",
      "121:\tlearn: 328.6175579\ttotal: 289ms\tremaining: 897ms\n",
      "122:\tlearn: 327.9809367\ttotal: 291ms\tremaining: 893ms\n",
      "123:\tlearn: 327.5253618\ttotal: 294ms\tremaining: 890ms\n",
      "124:\tlearn: 326.5486648\ttotal: 296ms\tremaining: 889ms\n",
      "125:\tlearn: 325.0261327\ttotal: 299ms\tremaining: 887ms\n",
      "126:\tlearn: 324.3655476\ttotal: 301ms\tremaining: 885ms\n",
      "127:\tlearn: 322.6644131\ttotal: 304ms\tremaining: 883ms\n",
      "128:\tlearn: 321.6573874\ttotal: 306ms\tremaining: 881ms\n",
      "129:\tlearn: 320.0944778\ttotal: 310ms\tremaining: 882ms\n",
      "130:\tlearn: 319.1550386\ttotal: 312ms\tremaining: 879ms\n",
      "131:\tlearn: 318.1704913\ttotal: 315ms\tremaining: 877ms\n",
      "132:\tlearn: 317.2237248\ttotal: 317ms\tremaining: 874ms\n",
      "133:\tlearn: 315.6777563\ttotal: 319ms\tremaining: 871ms\n",
      "134:\tlearn: 314.8435295\ttotal: 321ms\tremaining: 868ms\n",
      "135:\tlearn: 313.3280011\ttotal: 324ms\tremaining: 866ms\n",
      "136:\tlearn: 312.0965108\ttotal: 326ms\tremaining: 863ms\n",
      "137:\tlearn: 311.0935264\ttotal: 328ms\tremaining: 860ms\n",
      "138:\tlearn: 310.7353274\ttotal: 330ms\tremaining: 857ms\n",
      "139:\tlearn: 308.8828474\ttotal: 332ms\tremaining: 855ms\n",
      "140:\tlearn: 308.3773422\ttotal: 335ms\tremaining: 852ms\n",
      "141:\tlearn: 307.3442958\ttotal: 337ms\tremaining: 849ms\n",
      "142:\tlearn: 306.3114148\ttotal: 339ms\tremaining: 845ms\n",
      "143:\tlearn: 304.8701163\ttotal: 340ms\tremaining: 842ms\n",
      "144:\tlearn: 303.9716883\ttotal: 342ms\tremaining: 838ms\n",
      "145:\tlearn: 303.7622563\ttotal: 344ms\tremaining: 834ms\n",
      "146:\tlearn: 302.2421307\ttotal: 346ms\tremaining: 830ms\n",
      "147:\tlearn: 301.7114251\ttotal: 348ms\tremaining: 827ms\n",
      "148:\tlearn: 300.1382712\ttotal: 349ms\tremaining: 823ms\n",
      "149:\tlearn: 298.9413174\ttotal: 351ms\tremaining: 819ms\n",
      "150:\tlearn: 298.2057192\ttotal: 353ms\tremaining: 816ms\n",
      "151:\tlearn: 296.8918824\ttotal: 355ms\tremaining: 812ms\n",
      "152:\tlearn: 296.4058883\ttotal: 357ms\tremaining: 809ms\n",
      "153:\tlearn: 296.0845564\ttotal: 358ms\tremaining: 805ms\n",
      "154:\tlearn: 294.8671865\ttotal: 360ms\tremaining: 801ms\n",
      "155:\tlearn: 294.7370960\ttotal: 362ms\tremaining: 798ms\n",
      "156:\tlearn: 293.9596606\ttotal: 364ms\tremaining: 794ms\n",
      "157:\tlearn: 293.0713145\ttotal: 365ms\tremaining: 791ms\n",
      "158:\tlearn: 292.0379991\ttotal: 367ms\tremaining: 787ms\n",
      "159:\tlearn: 290.9843667\ttotal: 369ms\tremaining: 784ms\n",
      "160:\tlearn: 290.1830181\ttotal: 371ms\tremaining: 781ms\n",
      "161:\tlearn: 289.0625012\ttotal: 373ms\tremaining: 778ms\n",
      "162:\tlearn: 287.8167593\ttotal: 374ms\tremaining: 774ms\n",
      "163:\tlearn: 287.2669573\ttotal: 376ms\tremaining: 770ms\n",
      "164:\tlearn: 286.8874644\ttotal: 378ms\tremaining: 767ms\n",
      "165:\tlearn: 285.2097355\ttotal: 380ms\tremaining: 764ms\n",
      "166:\tlearn: 283.9626531\ttotal: 382ms\tremaining: 761ms\n",
      "167:\tlearn: 282.5357493\ttotal: 383ms\tremaining: 758ms\n",
      "168:\tlearn: 282.4142728\ttotal: 385ms\tremaining: 754ms\n",
      "169:\tlearn: 280.8726623\ttotal: 387ms\tremaining: 751ms\n",
      "170:\tlearn: 280.7555939\ttotal: 389ms\tremaining: 748ms\n",
      "171:\tlearn: 279.7431639\ttotal: 390ms\tremaining: 744ms\n",
      "172:\tlearn: 278.6756734\ttotal: 392ms\tremaining: 741ms\n",
      "173:\tlearn: 278.1833017\ttotal: 394ms\tremaining: 738ms\n",
      "174:\tlearn: 277.4720911\ttotal: 396ms\tremaining: 735ms\n",
      "175:\tlearn: 275.7342436\ttotal: 397ms\tremaining: 731ms\n",
      "176:\tlearn: 275.6271341\ttotal: 399ms\tremaining: 728ms\n",
      "177:\tlearn: 274.3022594\ttotal: 401ms\tremaining: 725ms\n",
      "178:\tlearn: 274.1483491\ttotal: 403ms\tremaining: 722ms\n",
      "179:\tlearn: 274.0357633\ttotal: 405ms\tremaining: 719ms\n",
      "180:\tlearn: 272.4828429\ttotal: 406ms\tremaining: 716ms\n",
      "181:\tlearn: 271.2269787\ttotal: 408ms\tremaining: 714ms\n",
      "182:\tlearn: 270.9638616\ttotal: 410ms\tremaining: 711ms\n",
      "183:\tlearn: 269.7634249\ttotal: 412ms\tremaining: 708ms\n",
      "184:\tlearn: 268.8742974\ttotal: 414ms\tremaining: 705ms\n",
      "185:\tlearn: 268.2961783\ttotal: 416ms\tremaining: 702ms\n",
      "186:\tlearn: 267.1411027\ttotal: 418ms\tremaining: 699ms\n",
      "187:\tlearn: 266.3848696\ttotal: 420ms\tremaining: 697ms\n",
      "188:\tlearn: 266.0124456\ttotal: 422ms\tremaining: 694ms\n",
      "189:\tlearn: 265.0808315\ttotal: 424ms\tremaining: 692ms\n",
      "190:\tlearn: 264.1640501\ttotal: 426ms\tremaining: 690ms\n",
      "191:\tlearn: 262.9469813\ttotal: 428ms\tremaining: 687ms\n",
      "192:\tlearn: 262.4596976\ttotal: 430ms\tremaining: 684ms\n",
      "193:\tlearn: 261.5315143\ttotal: 432ms\tremaining: 681ms\n",
      "194:\tlearn: 260.7889361\ttotal: 434ms\tremaining: 678ms\n",
      "195:\tlearn: 259.7018934\ttotal: 436ms\tremaining: 676ms\n",
      "196:\tlearn: 258.8240861\ttotal: 437ms\tremaining: 673ms\n",
      "197:\tlearn: 258.0231756\ttotal: 439ms\tremaining: 670ms\n",
      "198:\tlearn: 257.6777596\ttotal: 442ms\tremaining: 668ms\n",
      "199:\tlearn: 256.4395024\ttotal: 444ms\tremaining: 666ms\n",
      "200:\tlearn: 254.9606298\ttotal: 446ms\tremaining: 663ms\n",
      "201:\tlearn: 253.8255428\ttotal: 448ms\tremaining: 660ms\n",
      "202:\tlearn: 252.8941655\ttotal: 449ms\tremaining: 658ms\n",
      "203:\tlearn: 251.4512548\ttotal: 451ms\tremaining: 655ms\n",
      "204:\tlearn: 250.5092026\ttotal: 453ms\tremaining: 652ms\n",
      "205:\tlearn: 250.1969235\ttotal: 455ms\tremaining: 649ms\n",
      "206:\tlearn: 249.4410268\ttotal: 457ms\tremaining: 646ms\n",
      "207:\tlearn: 248.2948938\ttotal: 458ms\tremaining: 644ms\n",
      "208:\tlearn: 247.2848873\ttotal: 460ms\tremaining: 641ms\n",
      "209:\tlearn: 246.5572258\ttotal: 462ms\tremaining: 638ms\n",
      "210:\tlearn: 245.5894464\ttotal: 464ms\tremaining: 635ms\n",
      "211:\tlearn: 245.0889393\ttotal: 466ms\tremaining: 633ms\n",
      "212:\tlearn: 243.8660178\ttotal: 468ms\tremaining: 630ms\n",
      "213:\tlearn: 243.5254594\ttotal: 470ms\tremaining: 628ms\n",
      "214:\tlearn: 243.4058864\ttotal: 472ms\tremaining: 625ms\n",
      "215:\tlearn: 243.3189693\ttotal: 473ms\tremaining: 622ms\n",
      "216:\tlearn: 242.2785790\ttotal: 475ms\tremaining: 620ms\n",
      "217:\tlearn: 241.3295382\ttotal: 477ms\tremaining: 617ms\n",
      "218:\tlearn: 240.4102719\ttotal: 479ms\tremaining: 615ms\n",
      "219:\tlearn: 239.0904710\ttotal: 481ms\tremaining: 612ms\n",
      "220:\tlearn: 237.9093708\ttotal: 483ms\tremaining: 609ms\n",
      "221:\tlearn: 236.5099204\ttotal: 485ms\tremaining: 607ms\n",
      "222:\tlearn: 235.8481411\ttotal: 486ms\tremaining: 604ms\n",
      "223:\tlearn: 234.9544469\ttotal: 488ms\tremaining: 601ms\n",
      "224:\tlearn: 234.6530889\ttotal: 490ms\tremaining: 599ms\n",
      "225:\tlearn: 233.8258160\ttotal: 492ms\tremaining: 596ms\n",
      "226:\tlearn: 233.5797568\ttotal: 493ms\tremaining: 593ms\n",
      "227:\tlearn: 232.1624572\ttotal: 495ms\tremaining: 591ms\n",
      "228:\tlearn: 232.0565267\ttotal: 497ms\tremaining: 588ms\n",
      "229:\tlearn: 231.0706855\ttotal: 498ms\tremaining: 585ms\n",
      "230:\tlearn: 230.6660145\ttotal: 500ms\tremaining: 583ms\n",
      "231:\tlearn: 229.7877047\ttotal: 502ms\tremaining: 580ms\n",
      "232:\tlearn: 228.3505430\ttotal: 504ms\tremaining: 577ms\n",
      "233:\tlearn: 227.3389802\ttotal: 506ms\tremaining: 575ms\n",
      "234:\tlearn: 226.1453330\ttotal: 508ms\tremaining: 573ms\n",
      "235:\tlearn: 224.9612606\ttotal: 510ms\tremaining: 570ms\n",
      "236:\tlearn: 224.4552820\ttotal: 511ms\tremaining: 567ms\n",
      "237:\tlearn: 223.4744722\ttotal: 513ms\tremaining: 565ms\n",
      "238:\tlearn: 222.4189557\ttotal: 515ms\tremaining: 562ms\n",
      "239:\tlearn: 222.0747231\ttotal: 516ms\tremaining: 559ms\n",
      "240:\tlearn: 221.3515133\ttotal: 518ms\tremaining: 557ms\n",
      "241:\tlearn: 221.2710059\ttotal: 520ms\tremaining: 554ms\n",
      "242:\tlearn: 220.6894855\ttotal: 522ms\tremaining: 552ms\n",
      "243:\tlearn: 219.8489909\ttotal: 523ms\tremaining: 549ms\n",
      "244:\tlearn: 218.5843339\ttotal: 525ms\tremaining: 547ms\n",
      "245:\tlearn: 217.8541215\ttotal: 527ms\tremaining: 544ms\n",
      "246:\tlearn: 216.8707270\ttotal: 528ms\tremaining: 541ms\n",
      "247:\tlearn: 216.2546953\ttotal: 530ms\tremaining: 539ms\n",
      "248:\tlearn: 216.1052169\ttotal: 532ms\tremaining: 536ms\n",
      "249:\tlearn: 215.2519457\ttotal: 534ms\tremaining: 534ms\n",
      "250:\tlearn: 214.5503131\ttotal: 536ms\tremaining: 532ms\n",
      "251:\tlearn: 213.3477633\ttotal: 538ms\tremaining: 529ms\n",
      "252:\tlearn: 212.3672183\ttotal: 540ms\tremaining: 527ms\n",
      "253:\tlearn: 212.2662065\ttotal: 541ms\tremaining: 524ms\n",
      "254:\tlearn: 210.8732752\ttotal: 543ms\tremaining: 522ms\n",
      "255:\tlearn: 210.6489161\ttotal: 545ms\tremaining: 519ms\n",
      "256:\tlearn: 210.2360288\ttotal: 547ms\tremaining: 517ms\n",
      "257:\tlearn: 209.5199581\ttotal: 548ms\tremaining: 514ms\n",
      "258:\tlearn: 209.3314200\ttotal: 550ms\tremaining: 512ms\n",
      "259:\tlearn: 208.6841210\ttotal: 552ms\tremaining: 510ms\n",
      "260:\tlearn: 207.4479341\ttotal: 554ms\tremaining: 507ms\n",
      "261:\tlearn: 206.4663544\ttotal: 556ms\tremaining: 505ms\n",
      "262:\tlearn: 205.7817203\ttotal: 557ms\tremaining: 502ms\n",
      "263:\tlearn: 204.9407526\ttotal: 559ms\tremaining: 500ms\n",
      "264:\tlearn: 204.0170734\ttotal: 561ms\tremaining: 498ms\n",
      "265:\tlearn: 203.3591614\ttotal: 563ms\tremaining: 495ms\n",
      "266:\tlearn: 202.2923172\ttotal: 565ms\tremaining: 493ms\n",
      "267:\tlearn: 201.4486259\ttotal: 567ms\tremaining: 491ms\n",
      "268:\tlearn: 201.2153683\ttotal: 569ms\tremaining: 488ms\n",
      "269:\tlearn: 200.6865256\ttotal: 571ms\tremaining: 486ms\n",
      "270:\tlearn: 200.4541551\ttotal: 572ms\tremaining: 483ms\n",
      "271:\tlearn: 199.6928868\ttotal: 574ms\tremaining: 481ms\n",
      "272:\tlearn: 199.4409647\ttotal: 576ms\tremaining: 479ms\n",
      "273:\tlearn: 199.1979011\ttotal: 578ms\tremaining: 476ms\n",
      "274:\tlearn: 198.0927134\ttotal: 580ms\tremaining: 474ms\n",
      "275:\tlearn: 198.0059286\ttotal: 582ms\tremaining: 472ms\n",
      "276:\tlearn: 196.9701917\ttotal: 583ms\tremaining: 470ms\n",
      "277:\tlearn: 196.1732399\ttotal: 585ms\tremaining: 467ms\n",
      "278:\tlearn: 195.0969284\ttotal: 587ms\tremaining: 465ms\n",
      "279:\tlearn: 194.7486696\ttotal: 589ms\tremaining: 463ms\n",
      "280:\tlearn: 193.6706998\ttotal: 590ms\tremaining: 460ms\n",
      "281:\tlearn: 192.7375884\ttotal: 592ms\tremaining: 458ms\n",
      "282:\tlearn: 191.9935615\ttotal: 594ms\tremaining: 455ms\n",
      "283:\tlearn: 191.5602243\ttotal: 596ms\tremaining: 453ms\n",
      "284:\tlearn: 190.6903350\ttotal: 598ms\tremaining: 451ms\n",
      "285:\tlearn: 189.9780375\ttotal: 600ms\tremaining: 449ms\n",
      "286:\tlearn: 189.6218451\ttotal: 602ms\tremaining: 446ms\n",
      "287:\tlearn: 189.3309501\ttotal: 603ms\tremaining: 444ms\n",
      "288:\tlearn: 189.2390181\ttotal: 605ms\tremaining: 442ms\n",
      "289:\tlearn: 188.4106417\ttotal: 607ms\tremaining: 439ms\n",
      "290:\tlearn: 187.7802336\ttotal: 609ms\tremaining: 437ms\n",
      "291:\tlearn: 187.7032313\ttotal: 610ms\tremaining: 435ms\n",
      "292:\tlearn: 187.2586567\ttotal: 612ms\tremaining: 432ms\n",
      "293:\tlearn: 186.7267593\ttotal: 614ms\tremaining: 430ms\n",
      "294:\tlearn: 185.8703423\ttotal: 616ms\tremaining: 428ms\n",
      "295:\tlearn: 184.8900149\ttotal: 618ms\tremaining: 426ms\n",
      "296:\tlearn: 184.0375162\ttotal: 620ms\tremaining: 423ms\n",
      "297:\tlearn: 183.8316395\ttotal: 621ms\tremaining: 421ms\n",
      "298:\tlearn: 182.9574249\ttotal: 623ms\tremaining: 419ms\n",
      "299:\tlearn: 182.7278498\ttotal: 625ms\tremaining: 417ms\n",
      "300:\tlearn: 182.2823862\ttotal: 627ms\tremaining: 414ms\n",
      "301:\tlearn: 181.3068441\ttotal: 629ms\tremaining: 412ms\n",
      "302:\tlearn: 180.8401866\ttotal: 630ms\tremaining: 410ms\n",
      "303:\tlearn: 180.1156547\ttotal: 632ms\tremaining: 408ms\n",
      "304:\tlearn: 179.2677426\ttotal: 634ms\tremaining: 405ms\n",
      "305:\tlearn: 178.4412205\ttotal: 636ms\tremaining: 403ms\n",
      "306:\tlearn: 177.8269395\ttotal: 638ms\tremaining: 401ms\n",
      "307:\tlearn: 176.9742641\ttotal: 641ms\tremaining: 399ms\n",
      "308:\tlearn: 176.6256624\ttotal: 642ms\tremaining: 397ms\n",
      "309:\tlearn: 176.5211822\ttotal: 644ms\tremaining: 395ms\n",
      "310:\tlearn: 175.6831055\ttotal: 646ms\tremaining: 393ms\n",
      "311:\tlearn: 174.8690657\ttotal: 649ms\tremaining: 391ms\n",
      "312:\tlearn: 174.2662416\ttotal: 650ms\tremaining: 389ms\n",
      "313:\tlearn: 174.2200977\ttotal: 652ms\tremaining: 386ms\n",
      "314:\tlearn: 173.7756963\ttotal: 654ms\tremaining: 384ms\n",
      "315:\tlearn: 173.5811786\ttotal: 656ms\tremaining: 382ms\n",
      "316:\tlearn: 173.0700319\ttotal: 658ms\tremaining: 380ms\n",
      "317:\tlearn: 172.6089149\ttotal: 659ms\tremaining: 377ms\n",
      "318:\tlearn: 172.4695710\ttotal: 661ms\tremaining: 375ms\n",
      "319:\tlearn: 171.6065853\ttotal: 663ms\tremaining: 373ms\n",
      "320:\tlearn: 171.4065699\ttotal: 665ms\tremaining: 371ms\n",
      "321:\tlearn: 171.2995906\ttotal: 667ms\tremaining: 369ms\n",
      "322:\tlearn: 170.4980570\ttotal: 669ms\tremaining: 367ms\n",
      "323:\tlearn: 169.8842414\ttotal: 671ms\tremaining: 364ms\n",
      "324:\tlearn: 169.0795837\ttotal: 672ms\tremaining: 362ms\n",
      "325:\tlearn: 168.6715237\ttotal: 674ms\tremaining: 360ms\n",
      "326:\tlearn: 167.7097334\ttotal: 676ms\tremaining: 358ms\n",
      "327:\tlearn: 167.3235840\ttotal: 678ms\tremaining: 355ms\n",
      "328:\tlearn: 166.7174507\ttotal: 680ms\tremaining: 353ms\n",
      "329:\tlearn: 166.4841152\ttotal: 681ms\tremaining: 351ms\n",
      "330:\tlearn: 166.4003240\ttotal: 683ms\tremaining: 349ms\n",
      "331:\tlearn: 166.0571655\ttotal: 685ms\tremaining: 346ms\n",
      "332:\tlearn: 165.6479607\ttotal: 686ms\tremaining: 344ms\n",
      "333:\tlearn: 165.4905089\ttotal: 688ms\tremaining: 342ms\n",
      "334:\tlearn: 165.3810062\ttotal: 690ms\tremaining: 340ms\n",
      "335:\tlearn: 164.8173263\ttotal: 692ms\tremaining: 338ms\n",
      "336:\tlearn: 164.3755227\ttotal: 694ms\tremaining: 336ms\n",
      "337:\tlearn: 163.6073881\ttotal: 696ms\tremaining: 333ms\n",
      "338:\tlearn: 162.9244342\ttotal: 698ms\tremaining: 331ms\n",
      "339:\tlearn: 162.2537629\ttotal: 700ms\tremaining: 329ms\n",
      "340:\tlearn: 161.9531347\ttotal: 701ms\tremaining: 327ms\n",
      "341:\tlearn: 161.6402769\ttotal: 703ms\tremaining: 325ms\n",
      "342:\tlearn: 161.3670345\ttotal: 705ms\tremaining: 323ms\n",
      "343:\tlearn: 161.0672901\ttotal: 707ms\tremaining: 321ms\n",
      "344:\tlearn: 160.6170447\ttotal: 709ms\tremaining: 318ms\n",
      "345:\tlearn: 159.8218315\ttotal: 710ms\tremaining: 316ms\n",
      "346:\tlearn: 159.3505608\ttotal: 712ms\tremaining: 314ms\n",
      "347:\tlearn: 158.7602005\ttotal: 714ms\tremaining: 312ms\n",
      "348:\tlearn: 158.3523849\ttotal: 716ms\tremaining: 310ms\n",
      "349:\tlearn: 158.2489171\ttotal: 718ms\tremaining: 308ms\n",
      "350:\tlearn: 157.8113183\ttotal: 719ms\tremaining: 305ms\n",
      "351:\tlearn: 157.7283467\ttotal: 721ms\tremaining: 303ms\n",
      "352:\tlearn: 157.3922319\ttotal: 723ms\tremaining: 301ms\n",
      "353:\tlearn: 156.8093237\ttotal: 724ms\tremaining: 299ms\n",
      "354:\tlearn: 156.2545653\ttotal: 726ms\tremaining: 297ms\n",
      "355:\tlearn: 155.8302532\ttotal: 728ms\tremaining: 295ms\n",
      "356:\tlearn: 155.2837255\ttotal: 730ms\tremaining: 292ms\n",
      "357:\tlearn: 155.0967156\ttotal: 732ms\tremaining: 290ms\n",
      "358:\tlearn: 154.2977946\ttotal: 734ms\tremaining: 288ms\n",
      "359:\tlearn: 153.9182888\ttotal: 736ms\tremaining: 286ms\n",
      "360:\tlearn: 153.4473739\ttotal: 738ms\tremaining: 284ms\n",
      "361:\tlearn: 153.0596915\ttotal: 739ms\tremaining: 282ms\n",
      "362:\tlearn: 152.7742566\ttotal: 741ms\tremaining: 280ms\n",
      "363:\tlearn: 152.0766035\ttotal: 743ms\tremaining: 278ms\n",
      "364:\tlearn: 151.5260322\ttotal: 745ms\tremaining: 276ms\n",
      "365:\tlearn: 151.1314678\ttotal: 747ms\tremaining: 273ms\n",
      "366:\tlearn: 150.3204143\ttotal: 749ms\tremaining: 271ms\n",
      "367:\tlearn: 149.9774327\ttotal: 751ms\tremaining: 269ms\n",
      "368:\tlearn: 149.4502836\ttotal: 753ms\tremaining: 267ms\n",
      "369:\tlearn: 148.7226771\ttotal: 754ms\tremaining: 265ms\n",
      "370:\tlearn: 148.2129794\ttotal: 756ms\tremaining: 263ms\n",
      "371:\tlearn: 148.1229597\ttotal: 758ms\tremaining: 261ms\n",
      "372:\tlearn: 148.0487887\ttotal: 760ms\tremaining: 259ms\n",
      "373:\tlearn: 147.6147492\ttotal: 762ms\tremaining: 257ms\n",
      "374:\tlearn: 146.7976556\ttotal: 764ms\tremaining: 255ms\n",
      "375:\tlearn: 146.0075281\ttotal: 766ms\tremaining: 252ms\n",
      "376:\tlearn: 145.5715652\ttotal: 767ms\tremaining: 250ms\n",
      "377:\tlearn: 144.8808901\ttotal: 769ms\tremaining: 248ms\n",
      "378:\tlearn: 144.2170402\ttotal: 771ms\tremaining: 246ms\n",
      "379:\tlearn: 143.6756810\ttotal: 773ms\tremaining: 244ms\n",
      "380:\tlearn: 142.9740207\ttotal: 774ms\tremaining: 242ms\n",
      "381:\tlearn: 142.4829940\ttotal: 777ms\tremaining: 240ms\n",
      "382:\tlearn: 141.6709738\ttotal: 778ms\tremaining: 238ms\n",
      "383:\tlearn: 141.5926510\ttotal: 780ms\tremaining: 236ms\n",
      "384:\tlearn: 141.0304349\ttotal: 782ms\tremaining: 234ms\n",
      "385:\tlearn: 140.5918617\ttotal: 784ms\tremaining: 231ms\n",
      "386:\tlearn: 140.4323358\ttotal: 785ms\tremaining: 229ms\n",
      "387:\tlearn: 140.1439418\ttotal: 787ms\tremaining: 227ms\n",
      "388:\tlearn: 139.9165295\ttotal: 789ms\tremaining: 225ms\n",
      "389:\tlearn: 139.4721844\ttotal: 791ms\tremaining: 223ms\n",
      "390:\tlearn: 139.0950594\ttotal: 793ms\tremaining: 221ms\n",
      "391:\tlearn: 139.0053238\ttotal: 795ms\tremaining: 219ms\n",
      "392:\tlearn: 138.4939561\ttotal: 798ms\tremaining: 217ms\n",
      "393:\tlearn: 138.0963670\ttotal: 800ms\tremaining: 215ms\n",
      "394:\tlearn: 137.6057104\ttotal: 804ms\tremaining: 214ms\n",
      "395:\tlearn: 136.7629040\ttotal: 806ms\tremaining: 212ms\n",
      "396:\tlearn: 136.3452598\ttotal: 807ms\tremaining: 209ms\n",
      "397:\tlearn: 135.8552808\ttotal: 809ms\tremaining: 207ms\n",
      "398:\tlearn: 135.6922762\ttotal: 811ms\tremaining: 205ms\n",
      "399:\tlearn: 135.0791170\ttotal: 813ms\tremaining: 203ms\n",
      "400:\tlearn: 134.4216362\ttotal: 815ms\tremaining: 201ms\n",
      "401:\tlearn: 133.5489798\ttotal: 817ms\tremaining: 199ms\n",
      "402:\tlearn: 132.9535871\ttotal: 819ms\tremaining: 197ms\n",
      "403:\tlearn: 132.9124981\ttotal: 821ms\tremaining: 195ms\n",
      "404:\tlearn: 132.6505481\ttotal: 823ms\tremaining: 193ms\n",
      "405:\tlearn: 132.1398849\ttotal: 824ms\tremaining: 191ms\n",
      "406:\tlearn: 131.5867646\ttotal: 826ms\tremaining: 189ms\n",
      "407:\tlearn: 131.4170747\ttotal: 828ms\tremaining: 187ms\n",
      "408:\tlearn: 131.3592907\ttotal: 830ms\tremaining: 185ms\n",
      "409:\tlearn: 131.1770688\ttotal: 831ms\tremaining: 182ms\n",
      "410:\tlearn: 131.0846442\ttotal: 833ms\tremaining: 180ms\n",
      "411:\tlearn: 131.0373609\ttotal: 836ms\tremaining: 179ms\n",
      "412:\tlearn: 130.3877717\ttotal: 838ms\tremaining: 176ms\n",
      "413:\tlearn: 129.8961998\ttotal: 839ms\tremaining: 174ms\n",
      "414:\tlearn: 129.4602356\ttotal: 841ms\tremaining: 172ms\n",
      "415:\tlearn: 129.0181376\ttotal: 843ms\tremaining: 170ms\n",
      "416:\tlearn: 128.9681780\ttotal: 845ms\tremaining: 168ms\n",
      "417:\tlearn: 128.3653733\ttotal: 847ms\tremaining: 166ms\n",
      "418:\tlearn: 128.1601423\ttotal: 848ms\tremaining: 164ms\n",
      "419:\tlearn: 127.7326712\ttotal: 850ms\tremaining: 162ms\n",
      "420:\tlearn: 127.0540899\ttotal: 852ms\tremaining: 160ms\n",
      "421:\tlearn: 126.2888434\ttotal: 854ms\tremaining: 158ms\n",
      "422:\tlearn: 125.6035130\ttotal: 855ms\tremaining: 156ms\n",
      "423:\tlearn: 125.0813149\ttotal: 857ms\tremaining: 154ms\n",
      "424:\tlearn: 124.6203368\ttotal: 859ms\tremaining: 152ms\n",
      "425:\tlearn: 124.1848358\ttotal: 861ms\tremaining: 150ms\n",
      "426:\tlearn: 123.6017603\ttotal: 863ms\tremaining: 148ms\n",
      "427:\tlearn: 123.0041482\ttotal: 865ms\tremaining: 146ms\n",
      "428:\tlearn: 122.5475251\ttotal: 867ms\tremaining: 144ms\n",
      "429:\tlearn: 122.4246328\ttotal: 869ms\tremaining: 141ms\n",
      "430:\tlearn: 122.2093330\ttotal: 871ms\tremaining: 139ms\n",
      "431:\tlearn: 121.5865666\ttotal: 873ms\tremaining: 137ms\n",
      "432:\tlearn: 120.9972208\ttotal: 874ms\tremaining: 135ms\n",
      "433:\tlearn: 120.5841799\ttotal: 876ms\tremaining: 133ms\n",
      "434:\tlearn: 120.4284095\ttotal: 878ms\tremaining: 131ms\n",
      "435:\tlearn: 120.1747365\ttotal: 880ms\tremaining: 129ms\n",
      "436:\tlearn: 119.6437998\ttotal: 882ms\tremaining: 127ms\n",
      "437:\tlearn: 119.0755514\ttotal: 884ms\tremaining: 125ms\n",
      "438:\tlearn: 118.6236192\ttotal: 886ms\tremaining: 123ms\n",
      "439:\tlearn: 118.2682907\ttotal: 887ms\tremaining: 121ms\n",
      "440:\tlearn: 117.8999214\ttotal: 889ms\tremaining: 119ms\n",
      "441:\tlearn: 117.5179174\ttotal: 891ms\tremaining: 117ms\n",
      "442:\tlearn: 117.4065149\ttotal: 893ms\tremaining: 115ms\n",
      "443:\tlearn: 116.8179615\ttotal: 895ms\tremaining: 113ms\n",
      "444:\tlearn: 116.5976478\ttotal: 897ms\tremaining: 111ms\n",
      "445:\tlearn: 116.5288362\ttotal: 899ms\tremaining: 109ms\n",
      "446:\tlearn: 116.1590832\ttotal: 901ms\tremaining: 107ms\n",
      "447:\tlearn: 115.8065965\ttotal: 903ms\tremaining: 105ms\n",
      "448:\tlearn: 115.6719874\ttotal: 905ms\tremaining: 103ms\n",
      "449:\tlearn: 115.0961879\ttotal: 907ms\tremaining: 101ms\n",
      "450:\tlearn: 114.7509524\ttotal: 909ms\tremaining: 98.7ms\n",
      "451:\tlearn: 114.2551782\ttotal: 911ms\tremaining: 96.7ms\n",
      "452:\tlearn: 113.7637353\ttotal: 913ms\tremaining: 94.7ms\n",
      "453:\tlearn: 113.6467344\ttotal: 915ms\tremaining: 92.7ms\n",
      "454:\tlearn: 113.3872531\ttotal: 917ms\tremaining: 90.7ms\n",
      "455:\tlearn: 113.2472444\ttotal: 919ms\tremaining: 88.6ms\n",
      "456:\tlearn: 113.0580622\ttotal: 921ms\tremaining: 86.6ms\n",
      "457:\tlearn: 112.8315127\ttotal: 923ms\tremaining: 84.6ms\n",
      "458:\tlearn: 112.4469531\ttotal: 925ms\tremaining: 82.6ms\n",
      "459:\tlearn: 112.1752397\ttotal: 927ms\tremaining: 80.6ms\n",
      "460:\tlearn: 112.1254031\ttotal: 928ms\tremaining: 78.5ms\n",
      "461:\tlearn: 111.9924416\ttotal: 930ms\tremaining: 76.5ms\n",
      "462:\tlearn: 111.4354583\ttotal: 933ms\tremaining: 74.6ms\n",
      "463:\tlearn: 111.3535961\ttotal: 935ms\tremaining: 72.5ms\n",
      "464:\tlearn: 110.8249298\ttotal: 937ms\tremaining: 70.5ms\n",
      "465:\tlearn: 110.2651729\ttotal: 939ms\tremaining: 68.5ms\n",
      "466:\tlearn: 109.8156321\ttotal: 940ms\tremaining: 66.4ms\n",
      "467:\tlearn: 109.6563935\ttotal: 942ms\tremaining: 64.4ms\n",
      "468:\tlearn: 109.3709724\ttotal: 944ms\tremaining: 62.4ms\n",
      "469:\tlearn: 108.9797536\ttotal: 946ms\tremaining: 60.4ms\n",
      "470:\tlearn: 108.6626833\ttotal: 948ms\tremaining: 58.3ms\n",
      "471:\tlearn: 108.1040755\ttotal: 949ms\tremaining: 56.3ms\n",
      "472:\tlearn: 107.7870658\ttotal: 951ms\tremaining: 54.3ms\n",
      "473:\tlearn: 107.4332115\ttotal: 953ms\tremaining: 52.3ms\n",
      "474:\tlearn: 107.1322997\ttotal: 955ms\tremaining: 50.3ms\n",
      "475:\tlearn: 106.6885051\ttotal: 957ms\tremaining: 48.2ms\n",
      "476:\tlearn: 106.4723839\ttotal: 958ms\tremaining: 46.2ms\n",
      "477:\tlearn: 106.2218117\ttotal: 961ms\tremaining: 44.2ms\n",
      "478:\tlearn: 105.8205337\ttotal: 962ms\tremaining: 42.2ms\n",
      "479:\tlearn: 105.5249188\ttotal: 964ms\tremaining: 40.2ms\n",
      "480:\tlearn: 105.2465101\ttotal: 966ms\tremaining: 38.2ms\n",
      "481:\tlearn: 105.1318143\ttotal: 968ms\tremaining: 36.1ms\n",
      "482:\tlearn: 104.9067257\ttotal: 970ms\tremaining: 34.1ms\n",
      "483:\tlearn: 104.4920692\ttotal: 971ms\tremaining: 32.1ms\n",
      "484:\tlearn: 103.9716088\ttotal: 973ms\tremaining: 30.1ms\n",
      "485:\tlearn: 103.6770398\ttotal: 975ms\tremaining: 28.1ms\n",
      "486:\tlearn: 103.5993887\ttotal: 977ms\tremaining: 26.1ms\n",
      "487:\tlearn: 103.3892754\ttotal: 979ms\tremaining: 24.1ms\n",
      "488:\tlearn: 102.7967413\ttotal: 980ms\tremaining: 22.1ms\n",
      "489:\tlearn: 102.3782856\ttotal: 982ms\tremaining: 20ms\n",
      "490:\tlearn: 101.9753816\ttotal: 984ms\tremaining: 18ms\n",
      "491:\tlearn: 101.6856878\ttotal: 986ms\tremaining: 16ms\n",
      "492:\tlearn: 101.1704077\ttotal: 987ms\tremaining: 14ms\n",
      "493:\tlearn: 100.8019498\ttotal: 989ms\tremaining: 12ms\n",
      "494:\tlearn: 100.3335716\ttotal: 991ms\tremaining: 10ms\n",
      "495:\tlearn: 100.0618107\ttotal: 993ms\tremaining: 8.01ms\n",
      "496:\tlearn: 99.8072369\ttotal: 995ms\tremaining: 6ms\n",
      "497:\tlearn: 99.5905156\ttotal: 997ms\tremaining: 4ms\n",
      "498:\tlearn: 99.1527042\ttotal: 998ms\tremaining: 2ms\n",
      "499:\tlearn: 98.8295131\ttotal: 1000ms\tremaining: 0us\n"
     ]
    },
    {
     "data": {
      "text/plain": [
       "<catboost.core.CatBoostRegressor at 0x7fdd14f75d80>"
      ]
     },
     "execution_count": 18,
     "metadata": {},
     "output_type": "execute_result"
    }
   ],
   "source": [
    "#prepares catboost data\n",
    "\n",
    "train_data = X_train\n",
    "\n",
    "train_labels = y_train\n",
    "\n",
    "#split data into train and test\n",
    "\n",
    "test_data = catboost_pool = Pool(data=X_test, label=y_test)\n",
    "\n",
    "model = CatBoostRegressor(  \n",
    "                           n_estimators=500,\n",
    "                           learning_rate=0.1, \n",
    "                           depth=3, \n",
    "                           loss_function='RMSE', \n",
    "                           has_time=True\n",
    "                           )\n",
    "\n",
    "\n",
    "model.fit(train_data, train_labels)\n"
   ]
  },
  {
   "cell_type": "code",
   "execution_count": null,
   "id": "54742bb0",
   "metadata": {
    "vscode": {
     "languageId": "python"
    }
   },
   "outputs": [],
   "source": [
    "grid = {'n_estimators': [500, 1000, 200],\n",
    "        'learning_rate': [0.03, 0.1],\n",
    "        'depth': [2, 4, 6, 8],\n",
    "        'l2_leaf_reg': [0.2, 0.5, 1, 3]}\n",
    "\n",
    "model.grid_search(grid, train_data, train_labels)"
   ]
  },
  {
   "cell_type": "markdown",
   "id": "0da06015-a2ed-4601-9783-56d98885477c",
   "metadata": {},
   "source": [
    "## Model Evaluation"
   ]
  },
  {
   "cell_type": "code",
   "execution_count": 19,
   "id": "caa951a0-861f-4fa6-94c5-05118c6712f7",
   "metadata": {
    "vscode": {
     "languageId": "python"
    }
   },
   "outputs": [
    {
     "name": "stdout",
     "output_type": "stream",
     "text": [
      "Testing performance\n",
      "R2: 0.51\n"
     ]
    }
   ],
   "source": [
    "pred = model.predict(X_test)\n",
    "r2 = r2_score(y_test, pred)\n",
    "print('Testing performance')\n",
    "print('R2: {:.2f}'.format(r2))"
   ]
  },
  {
   "cell_type": "markdown",
   "id": "eccaf78a-b53b-47bd-8427-d974e1a15553",
   "metadata": {},
   "source": [
    "### Out-Sample Evaluation"
   ]
  },
  {
   "cell_type": "markdown",
   "id": "9f6dec09-63a2-4170-9e93-97379f1f9039",
   "metadata": {},
   "source": [
    "## Submission"
   ]
  },
  {
   "cell_type": "markdown",
   "id": "e9ccb559-4e51-430f-ac5b-4ee00b1e6068",
   "metadata": {},
   "source": [
    "Once you are happy with your model, you can make a submission. To make a submission, you will need to use your model to make the yield predictions of rice crop for a set of test coordinates we have provided in the <a href=\"https://challenge.ey.com/api/v1/storage/admin-files/8515054086281302-63ca8f827b1fe300146c7e21-challenge_2_submission_template.csv\"><b>\"challenge_2_submission_template.csv\"</b></a> file and upload the file onto the challenge platform."
   ]
  },
  {
   "cell_type": "code",
   "execution_count": 24,
   "id": "faa43a8e-d319-468d-a657-f8f1a4cb8868",
   "metadata": {
    "vscode": {
     "languageId": "python"
    }
   },
   "outputs": [
    {
     "data": {
      "text/html": [
       "<div>\n",
       "<style scoped>\n",
       "    .dataframe tbody tr th:only-of-type {\n",
       "        vertical-align: middle;\n",
       "    }\n",
       "\n",
       "    .dataframe tbody tr th {\n",
       "        vertical-align: top;\n",
       "    }\n",
       "\n",
       "    .dataframe thead th {\n",
       "        text-align: right;\n",
       "    }\n",
       "</style>\n",
       "<table border=\"1\" class=\"dataframe\">\n",
       "  <thead>\n",
       "    <tr style=\"text-align: right;\">\n",
       "      <th></th>\n",
       "      <th>ID No</th>\n",
       "      <th>District</th>\n",
       "      <th>Latitude</th>\n",
       "      <th>Longitude</th>\n",
       "      <th>Season(SA = Summer Autumn, WS = Winter Spring)</th>\n",
       "      <th>Rice Crop Intensity(D=Double, T=Triple)</th>\n",
       "      <th>Date of Harvest</th>\n",
       "      <th>Field size (ha)</th>\n",
       "      <th>Predicted Rice Yield (kg/ha)</th>\n",
       "    </tr>\n",
       "  </thead>\n",
       "  <tbody>\n",
       "    <tr>\n",
       "      <th>0</th>\n",
       "      <td>1</td>\n",
       "      <td>Chau_Phu</td>\n",
       "      <td>10.542192</td>\n",
       "      <td>105.187920</td>\n",
       "      <td>WS</td>\n",
       "      <td>T</td>\n",
       "      <td>10-04-2022</td>\n",
       "      <td>1.40</td>\n",
       "      <td>NaN</td>\n",
       "    </tr>\n",
       "    <tr>\n",
       "      <th>1</th>\n",
       "      <td>2</td>\n",
       "      <td>Chau_Thanh</td>\n",
       "      <td>10.400189</td>\n",
       "      <td>105.331053</td>\n",
       "      <td>SA</td>\n",
       "      <td>T</td>\n",
       "      <td>15-07-2022</td>\n",
       "      <td>1.32</td>\n",
       "      <td>NaN</td>\n",
       "    </tr>\n",
       "    <tr>\n",
       "      <th>2</th>\n",
       "      <td>3</td>\n",
       "      <td>Chau_Phu</td>\n",
       "      <td>10.505489</td>\n",
       "      <td>105.203926</td>\n",
       "      <td>SA</td>\n",
       "      <td>D</td>\n",
       "      <td>14-07-2022</td>\n",
       "      <td>1.40</td>\n",
       "      <td>NaN</td>\n",
       "    </tr>\n",
       "    <tr>\n",
       "      <th>3</th>\n",
       "      <td>4</td>\n",
       "      <td>Chau_Phu</td>\n",
       "      <td>10.523520</td>\n",
       "      <td>105.138274</td>\n",
       "      <td>WS</td>\n",
       "      <td>D</td>\n",
       "      <td>10-04-2022</td>\n",
       "      <td>1.80</td>\n",
       "      <td>NaN</td>\n",
       "    </tr>\n",
       "    <tr>\n",
       "      <th>4</th>\n",
       "      <td>5</td>\n",
       "      <td>Thoai_Son</td>\n",
       "      <td>10.294660</td>\n",
       "      <td>105.248528</td>\n",
       "      <td>SA</td>\n",
       "      <td>T</td>\n",
       "      <td>20-07-2022</td>\n",
       "      <td>2.20</td>\n",
       "      <td>NaN</td>\n",
       "    </tr>\n",
       "  </tbody>\n",
       "</table>\n",
       "</div>"
      ],
      "text/plain": [
       "   ID No    District   Latitude   Longitude  \\\n",
       "0      1    Chau_Phu  10.542192  105.187920   \n",
       "1      2  Chau_Thanh  10.400189  105.331053   \n",
       "2      3    Chau_Phu  10.505489  105.203926   \n",
       "3      4    Chau_Phu  10.523520  105.138274   \n",
       "4      5   Thoai_Son  10.294660  105.248528   \n",
       "\n",
       "  Season(SA = Summer Autumn, WS = Winter Spring)  \\\n",
       "0                                             WS   \n",
       "1                                             SA   \n",
       "2                                             SA   \n",
       "3                                             WS   \n",
       "4                                             SA   \n",
       "\n",
       "  Rice Crop Intensity(D=Double, T=Triple) Date of Harvest  Field size (ha)  \\\n",
       "0                                       T      10-04-2022             1.40   \n",
       "1                                       T      15-07-2022             1.32   \n",
       "2                                       D      14-07-2022             1.40   \n",
       "3                                       D      10-04-2022             1.80   \n",
       "4                                       T      20-07-2022             2.20   \n",
       "\n",
       "   Predicted Rice Yield (kg/ha)  \n",
       "0                           NaN  \n",
       "1                           NaN  \n",
       "2                           NaN  \n",
       "3                           NaN  \n",
       "4                           NaN  "
      ]
     },
     "execution_count": 24,
     "metadata": {},
     "output_type": "execute_result"
    }
   ],
   "source": [
    "test_file = pd.read_csv('PlanetaryComputerExamples/OpenDataChallenge/Data/Challenge_2_submission_template.csv')\n",
    "test_file.head()"
   ]
  },
  {
   "cell_type": "code",
   "execution_count": 25,
   "id": "4dcb45d5-1a0d-4786-9057-e9e53ba68551",
   "metadata": {
    "vscode": {
     "languageId": "python"
    }
   },
   "outputs": [
    {
     "name": "stderr",
     "output_type": "stream",
     "text": [
      "100%|██████████| 100/100 [10:46<00:00,  6.47s/it]\n"
     ]
    }
   ],
   "source": [
    "## Get Sentinel-1-RTC Data\n",
    "\n",
    "assets = ['vh','vv']\n",
    "longitude = test_file['Longitude'].astype(float).values\n",
    "latitude = test_file['Latitude'].astype(float).values\n",
    "harvest_date = test_file['Date of Harvest'].values\n",
    "datasets = []\n",
    "for i in tqdm(range(0,len(longitude))):\n",
    "    data = db_scale(get_sentinel_data(longitude[i],latitude[i], harvest_date[i], assets))\n",
    "    data.to_netcdf('PlanetaryComputerExamples/OpenDataChallenge/Data/SubmissionData_2/raw_data_' + str(i) + '.nc')\n",
    "    datasets.append(data)"
   ]
  },
  {
   "cell_type": "code",
   "execution_count": 33,
   "id": "ed57cf61",
   "metadata": {
    "vscode": {
     "languageId": "python"
    }
   },
   "outputs": [
    {
     "name": "stderr",
     "output_type": "stream",
     "text": [
      "100%|██████████| 100/100 [00:01<00:00, 96.36it/s]\n"
     ]
    }
   ],
   "source": [
    "#get sample data from Data/RawData files\n",
    "dataArray = []\n",
    "for i in tqdm(range(0,len(test_file))):\n",
    "    data = xr.open_dataset('PlanetaryComputerExamples/OpenDataChallenge/Data/SubmissionData_2/raw_data_'+str(i)+'.nc')\n",
    "    data = data.mean(dim=['x','y']).compute()\n",
    "    data = data.assign_coords({'time':np.arange(0,len(data.time))})\n",
    "    dataArray.append(data)"
   ]
  },
  {
   "cell_type": "code",
   "execution_count": 34,
   "id": "915d9e6a-0f6f-466f-b0ad-5e278d7197b1",
   "metadata": {
    "vscode": {
     "languageId": "python"
    }
   },
   "outputs": [],
   "source": [
    "data = xr.concat(dataArray, dim='place')\n",
    "#drop last 3 time steps\n",
    "data = data.isel(time=slice(0,-3))"
   ]
  },
  {
   "cell_type": "code",
   "execution_count": 35,
   "id": "75f8f8df",
   "metadata": {
    "vscode": {
     "languageId": "python"
    }
   },
   "outputs": [],
   "source": [
    "#interpolate na\n",
    "data = data.interpolate_na(dim='time', method='linear', fill_value='extrapolate')"
   ]
  },
  {
   "cell_type": "code",
   "execution_count": 36,
   "id": "731a304d",
   "metadata": {
    "vscode": {
     "languageId": "python"
    }
   },
   "outputs": [],
   "source": [
    "#add cross-co polarisation\n",
    "crossCo = (data.vh/data.vv).to_dataset(name='crossCo')\n",
    "data = data.merge(crossCo)"
   ]
  },
  {
   "cell_type": "code",
   "execution_count": 37,
   "id": "f4e2519a",
   "metadata": {
    "vscode": {
     "languageId": "python"
    }
   },
   "outputs": [
    {
     "name": "stderr",
     "output_type": "stream",
     "text": [
      "100%|██████████| 100/100 [00:00<00:00, 530.52it/s]\n"
     ]
    }
   ],
   "source": [
    "#apply time series smoothing\n",
    "smoother = LowessSmoother(smooth_fraction=0.1, iterations=1)\n",
    "smooth_data = []\t\n",
    "for i in tqdm(range(0,len(data.place))):\n",
    "    smoother.smooth(data.isel(place=i).to_array(dim='time'))\n",
    "    smooth_data.append(xr.DataArray(smoother.smooth_data, dims=['bands', 'scene'], coords={'bands':['vv','vh','crossCo'], 'scene':range(0, 35)}))\n",
    "\n",
    "\n",
    "smooth_data = xr.concat(smooth_data, dim='place')"
   ]
  },
  {
   "cell_type": "code",
   "execution_count": 38,
   "id": "fc767e2c",
   "metadata": {
    "vscode": {
     "languageId": "python"
    }
   },
   "outputs": [],
   "source": [
    "crop_data = smooth_data.stack(variables=('bands', 'scene')).to_numpy()"
   ]
  },
  {
   "cell_type": "code",
   "execution_count": 39,
   "id": "0980c29c",
   "metadata": {
    "vscode": {
     "languageId": "python"
    }
   },
   "outputs": [],
   "source": [
    "pred = model.predict(crop_data)"
   ]
  },
  {
   "cell_type": "code",
   "execution_count": 40,
   "id": "ede57a52-7621-453b-ba72-d1b5c4c97d8e",
   "metadata": {
    "vscode": {
     "languageId": "python"
    }
   },
   "outputs": [],
   "source": [
    "#Combining the results into dataframe\n",
    "test_file['Predicted Rice Yield (kg/ha)'] = list(pred)"
   ]
  },
  {
   "cell_type": "code",
   "execution_count": 42,
   "id": "489a2239-1fb3-41e5-9ae9-4612d792eb64",
   "metadata": {
    "vscode": {
     "languageId": "python"
    }
   },
   "outputs": [],
   "source": [
    "#Dumping the predictions into a csv file.\n",
    "test_file.to_csv(\"PlanetaryComputerExamples/OpenDataChallenge/Data/Submission/challenge_2_submission_rice_crop_yield_prediction.csv\",index = False)"
   ]
  }
 ],
 "metadata": {
  "kernelspec": {
   "display_name": "Python [conda env:notebook] *",
   "language": "python",
   "name": "conda-env-notebook-py"
  }
 },
 "nbformat": 4,
 "nbformat_minor": 5
}
